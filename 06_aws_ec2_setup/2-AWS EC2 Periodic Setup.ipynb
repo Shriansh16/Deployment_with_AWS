{
 "cells": [
  {
   "cell_type": "markdown",
   "metadata": {},
   "source": [
    "## Start, Stop and Delete Amazon EC2 instances"
   ]
  },
  {
   "cell_type": "code",
   "execution_count": 2,
   "metadata": {},
   "outputs": [
    {
     "data": {
      "text/plain": [
       "'i-0aa08b36530f25156'"
      ]
     },
     "execution_count": 2,
     "metadata": {},
     "output_type": "execute_result"
    }
   ],
   "source": [
    "import boto3\n",
    "\n",
    "ec2 = boto3.client('ec2')\n",
    "\n",
    "response = ec2.describe_instances()\n",
    "\n",
    "# instance_name = \"mlops-kgptalkie\"\n",
    "instance_name = \"mlops-prod\"\n",
    "instance_id=\"\" \n",
    "\n",
    "for resp in response['Reservations']:\n",
    "    resp = resp['Instances'][0]\n",
    "    tags = resp.get('Tags', [])\n",
    "    \n",
    "    for tag in tags:\n",
    "        if tag.get(\"Key\", \"\")==\"Name\" and tag.get(\"Value\", \"\")==instance_name:\n",
    "            instance_id = resp['InstanceId']\n",
    "\n",
    "if instance_id==\"\":\n",
    "    print(f\"No instance found with name {instance_name}\")\n",
    "    raise(\"Stop here!!!\")\n",
    "\n",
    "instance_id"
   ]
  },
  {
   "cell_type": "code",
   "execution_count": 3,
   "metadata": {},
   "outputs": [],
   "source": [
    "# status -> running, stopped, terminated, pending etc.\n",
    "\n",
    "import time\n",
    "\n",
    "def wait_for_status(instance_id, target_status):\n",
    "    while True:\n",
    "        response = ec2.describe_instances(InstanceIds=instance_id)\n",
    "\n",
    "        status = response['Reservations'][0]['Instances'][0]['State']['Name']\n",
    "\n",
    "        if status == target_status:\n",
    "            print(\"Instance is in {} state\".format(target_status))\n",
    "            break\n",
    "        \n",
    "        time.sleep(10)\n"
   ]
  },
  {
   "cell_type": "code",
   "execution_count": 3,
   "metadata": {},
   "outputs": [
    {
     "name": "stdout",
     "output_type": "stream",
     "text": [
      "EC2 Instance Stop\n",
      "Instance is in stopped state\n"
     ]
    }
   ],
   "source": [
    "def stop_instances(instance_id):\n",
    "    print(\"EC2 Instance Stop\")\n",
    "    ec2.stop_instances(InstanceIds=instance_id)\n",
    "\n",
    "    wait_for_status(instance_id, 'stopped')\n",
    "\n",
    "stop_instances([instance_id])"
   ]
  },
  {
   "cell_type": "code",
   "execution_count": 4,
   "metadata": {},
   "outputs": [
    {
     "name": "stdout",
     "output_type": "stream",
     "text": [
      "EC2 Instance Start\n",
      "Instance is in running state\n"
     ]
    },
    {
     "data": {
      "text/plain": [
       "'54.163.207.194'"
      ]
     },
     "execution_count": 4,
     "metadata": {},
     "output_type": "execute_result"
    }
   ],
   "source": [
    "def start_instances(instance_id):\n",
    "    print(\"EC2 Instance Start\")\n",
    "    ec2.start_instances(InstanceIds=instance_id)\n",
    "\n",
    "    wait_for_status(instance_id, 'running')\n",
    "\n",
    "start_instances([instance_id])\n",
    "\n",
    "response = ec2.describe_instances(InstanceIds=[instance_id])\n",
    "public_ip = response['Reservations'][0]['Instances'][0]['PublicIpAddress']\n",
    "public_ip"
   ]
  },
  {
   "cell_type": "code",
   "execution_count": null,
   "metadata": {},
   "outputs": [],
   "source": []
  },
  {
   "cell_type": "code",
   "execution_count": null,
   "metadata": {},
   "outputs": [],
   "source": []
  },
  {
   "cell_type": "code",
   "execution_count": null,
   "metadata": {},
   "outputs": [],
   "source": []
  },
  {
   "cell_type": "code",
   "execution_count": null,
   "metadata": {},
   "outputs": [],
   "source": []
  }
 ],
 "metadata": {
  "kernelspec": {
   "display_name": "Python 3",
   "language": "python",
   "name": "python3"
  },
  "language_info": {
   "codemirror_mode": {
    "name": "ipython",
    "version": 3
   },
   "file_extension": ".py",
   "mimetype": "text/x-python",
   "name": "python",
   "nbconvert_exporter": "python",
   "pygments_lexer": "ipython3",
   "version": "3.10.13"
  }
 },
 "nbformat": 4,
 "nbformat_minor": 4
}
