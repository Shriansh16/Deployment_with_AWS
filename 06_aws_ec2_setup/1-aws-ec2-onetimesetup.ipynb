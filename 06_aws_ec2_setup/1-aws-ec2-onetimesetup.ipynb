{
 "cells": [
  {
   "cell_type": "markdown",
   "metadata": {
    "vscode": {
     "languageId": "plaintext"
    }
   },
   "source": [
    "## Check if Instance is Present"
   ]
  },
  {
   "cell_type": "code",
   "execution_count": 1,
   "metadata": {},
   "outputs": [
    {
     "name": "stdout",
     "output_type": "stream",
     "text": [
      "No instance found with name mlops-prod-ok\n"
     ]
    },
    {
     "data": {
      "text/plain": [
       "''"
      ]
     },
     "execution_count": 1,
     "metadata": {},
     "output_type": "execute_result"
    }
   ],
   "source": [
    "import boto3\n",
    "\n",
    "ec2 = boto3.client('ec2')\n",
    "\n",
    "response = ec2.describe_instances()\n",
    "\n",
    "# instance_name = \"mlops-kgptalkie\"\n",
    "\n",
    "instance_name = \"mlops-prod-ok\"\n",
    "\n",
    "instance_id=\"\" \n",
    "\n",
    "for resp in response['Reservations']:\n",
    "    resp = resp['Instances'][0]\n",
    "    tags = resp.get('Tags', [])\n",
    "    \n",
    "    for tag in tags:\n",
    "        if tag.get(\"Key\", \"\")==\"Name\" and tag.get(\"Value\", \"\")==instance_name:\n",
    "            instance_id = resp['InstanceId']\n",
    "\n",
    "if instance_id==\"\":\n",
    "    print(f\"No instance found with name {instance_name}\")\n",
    "    # raise(\"Stop here!!!\")\n",
    "\n",
    "instance_id"
   ]
  },
  {
   "cell_type": "markdown",
   "metadata": {},
   "source": [
    "This script: ✅ Connects to AWS EC2\n",
    "- Retrieves all EC2 instances                                                 \n",
    "- Searches for an instance with the name \"mlops-prod\"\n",
    "- If found, prints/stores the instance ID\n",
    "- If not found, prints an error message"
   ]
  },
  {
   "cell_type": "markdown",
   "metadata": {},
   "source": [
    "## Create an Amazon EC2 instance"
   ]
  },
  {
   "cell_type": "code",
   "execution_count": 2,
   "metadata": {},
   "outputs": [],
   "source": [
    "import boto3\n",
    "\n",
    "ec2 = boto3.client('ec2')\n",
    "\n",
    "if instance_id == \"\":\n",
    "    response = ec2.run_instances(\n",
    "        ImageId = 'ami-0197c13a4f68c9360',\n",
    "        MinCount=1,\n",
    "        MaxCount=1,\n",
    "        InstanceType='t2.medium',\n",
    "        KeyName='donut',\n",
    "        BlockDeviceMappings=[\n",
    "            {\n",
    "                \"DeviceName\": \"/dev/xvda\",\n",
    "                'Ebs':{\n",
    "                    'DeleteOnTermination': True,\n",
    "                    'VolumeSize': 120\n",
    "                }\n",
    "            }\n",
    "        ]\n",
    "\n",
    "    )\n",
    "\n",
    "    instance_id = response['Instances'][0]['InstanceId']\n",
    "\n",
    "    ec2.create_tags(Resources=[instance_id], Tags=[\n",
    "        {\n",
    "            'Key':'Name',\n",
    "            'Value':instance_name\n",
    "        }\n",
    "    ])\n",
    "\n",
    "else:\n",
    "    print(\"Instance is already present\")"
   ]
  },
  {
   "cell_type": "markdown",
   "metadata": {},
   "source": [
    "- Checks if an EC2 instance with a given name exists\n",
    "- If not found, creates a new EC2 instance\n",
    "- Assigns a name tag to the new instance\n",
    "- Handles the case where an instance already exists"
   ]
  },
  {
   "cell_type": "markdown",
   "metadata": {},
   "source": [
    "## Create Security Group and add rules to it\n",
    "- Security groups control inbound and outbound traffic of the EC2 instance network interface.\n",
    "- every EC2 instance must have at least one Security Group associated with it. If no Security Group has been specified during the EC2 instance launch, the default Security Group of the default VPC is associated with the instance."
   ]
  },
  {
   "cell_type": "code",
   "execution_count": 3,
   "metadata": {},
   "outputs": [
    {
     "data": {
      "text/plain": [
       "'sg-031170b47f8caba0d'"
      ]
     },
     "execution_count": 3,
     "metadata": {},
     "output_type": "execute_result"
    }
   ],
   "source": [
    "group_name = 'kgptalkie'\n",
    "\n",
    "response = ec2.describe_security_groups()\n",
    "\n",
    "security_group_id = [x['GroupId'] for x in response['SecurityGroups'] if x['GroupName']==group_name]\n",
    "\n",
    "if security_group_id == []:\n",
    "    response = ec2.create_security_group(\n",
    "        GroupName = group_name,\n",
    "        Description = \"Security group for testing\"\n",
    "    )\n",
    "    security_group_id = response['GroupId']\n",
    "else:\n",
    "    security_group_id = security_group_id[0]\n",
    "\n",
    "security_group_id"
   ]
  },
  {
   "cell_type": "markdown",
   "metadata": {},
   "source": [
    "- Retrieve all existing security groups.\n",
    "- Check if a security group with the given name exists.\n",
    "- If exists, use its Group ID.\n",
    "- If not found, create a new security group and store its Group ID.\n",
    "- Return the Security Group ID."
   ]
  },
  {
   "cell_type": "code",
   "execution_count": 4,
   "metadata": {},
   "outputs": [
    {
     "name": "stdout",
     "output_type": "stream",
     "text": [
      "This rule is already there\n",
      "This rule is already there\n",
      "This rule is already there\n",
      "This rule is already there\n"
     ]
    }
   ],
   "source": [
    "from botocore.exceptions import ClientError\n",
    "\n",
    "def update_security_group(group_id, protocol, port, cidr):\n",
    "    try:\n",
    "        response = ec2.authorize_security_group_ingress(\n",
    "            GroupId = group_id,\n",
    "            IpPermissions=[\n",
    "                {\n",
    "                    'IpProtocol': protocol,\n",
    "                    'FromPort': port,\n",
    "                    'ToPort': port,\n",
    "                    'IpRanges': [{'CidrIp': cidr}]\n",
    "                }\n",
    "            ]\n",
    "        )\n",
    "    except ClientError as e:\n",
    "        if e.response['Error']['Code']=='InvalidPermission.Duplicate':\n",
    "            print('This rule is already there')\n",
    "        else:\n",
    "            print(\"an error as occured!\")\n",
    "            print(e)\n",
    "\n",
    "update_security_group(security_group_id, 'tcp', 22, '0.0.0.0/0')\n",
    "update_security_group(security_group_id, 'tcp', 80, '0.0.0.0/0')\n",
    "update_security_group(security_group_id, 'tcp', 8501, '0.0.0.0/0')\n",
    "update_security_group(security_group_id, 'tcp', 8502, '0.0.0.0/0')"
   ]
  },
  {
   "cell_type": "markdown",
   "metadata": {},
   "source": [
    "- Defines a function update_security_group(group_id, protocol, port, cidr) to add inbound rules to an AWS EC2 security group.\n",
    "\n",
    "- Uses authorize_security_group_ingress() to allow traffic on the specified protocol, port, and IP range (CIDR).\n",
    "\n",
    "- Handles errors using try-except:\n",
    "\n",
    "- If the rule already exists, it prints \"This rule is already there\".\n",
    "- If any other error occurs, it prints \"An error has occurred!\" along with the error details.\n",
    "- Calls the function to open inbound access for:\n",
    "\n",
    "- Port 22 (SSH) → Remote login.\n",
    "- Port 80 (HTTP) → Web traffic.\n",
    "- Port 8501 (Streamlit app) → Common for web apps.\n",
    "- Port 8502 (Alternative Streamlit app port).\n",
    "- Ensures the EC2 instance can receive traffic on necessary ports without adding duplicate rules."
   ]
  },
  {
   "cell_type": "code",
   "execution_count": 5,
   "metadata": {},
   "outputs": [
    {
     "data": {
      "text/plain": [
       "{'ResponseMetadata': {'RequestId': '299e4f1b-614e-42e3-9956-4abb1634a2c8',\n",
       "  'HTTPStatusCode': 200,\n",
       "  'HTTPHeaders': {'x-amzn-requestid': '299e4f1b-614e-42e3-9956-4abb1634a2c8',\n",
       "   'cache-control': 'no-cache, no-store',\n",
       "   'strict-transport-security': 'max-age=31536000; includeSubDomains',\n",
       "   'content-type': 'text/xml;charset=UTF-8',\n",
       "   'content-length': '235',\n",
       "   'date': 'Mon, 24 Feb 2025 17:01:29 GMT',\n",
       "   'server': 'AmazonEC2'},\n",
       "  'RetryAttempts': 0}}"
      ]
     },
     "execution_count": 5,
     "metadata": {},
     "output_type": "execute_result"
    }
   ],
   "source": [
    "ec2.modify_instance_attribute(InstanceId=instance_id, Groups=[security_group_id])"
   ]
  },
  {
   "cell_type": "markdown",
   "metadata": {},
   "source": [
    "- This modifies the security group associated with an EC2 instance.\n",
    "\n",
    "- How It Works:\n",
    "- InstanceId=instance_id → Specifies the EC2 instance to modify.\n",
    "- Groups=[security_group_id] → Assigns the specified security group to the instance.\n",
    "- This overrides any existing security group(s) attached to the instance."
   ]
  },
  {
   "cell_type": "code",
   "execution_count": 6,
   "metadata": {},
   "outputs": [],
   "source": [
    "## Attach S3 Policy to EC2 Instance\n"
   ]
  },
  {
   "cell_type": "code",
   "execution_count": 7,
   "metadata": {},
   "outputs": [
    {
     "data": {
      "text/plain": [
       "{'IamInstanceProfileAssociation': {'AssociationId': 'iip-assoc-044b278043fa2424d',\n",
       "  'InstanceId': 'i-0897f1525f534c5eb',\n",
       "  'IamInstanceProfile': {'Arn': 'arn:aws:iam::872515257072:instance-profile/ec2-s3-full-access',\n",
       "   'Id': 'AIPA4WJPWILYK2WMAMOKP'},\n",
       "  'State': 'associating'},\n",
       " 'ResponseMetadata': {'RequestId': '8d50c598-d738-457d-9e3f-924ab9ec635f',\n",
       "  'HTTPStatusCode': 200,\n",
       "  'HTTPHeaders': {'x-amzn-requestid': '8d50c598-d738-457d-9e3f-924ab9ec635f',\n",
       "   'cache-control': 'no-cache, no-store',\n",
       "   'strict-transport-security': 'max-age=31536000; includeSubDomains',\n",
       "   'vary': 'accept-encoding',\n",
       "   'content-type': 'text/xml;charset=UTF-8',\n",
       "   'transfer-encoding': 'chunked',\n",
       "   'date': 'Mon, 24 Feb 2025 17:02:00 GMT',\n",
       "   'server': 'AmazonEC2'},\n",
       "  'RetryAttempts': 0}}"
      ]
     },
     "execution_count": 7,
     "metadata": {},
     "output_type": "execute_result"
    }
   ],
   "source": [
    "# describe IAM role\n",
    "iam = boto3.client('iam')\n",
    "\n",
    "role_name = \"ec2-s3-full-access\"\n",
    "\n",
    "response = iam.get_role(RoleName=role_name)\n",
    "\n",
    "role_arn = response['Role']['Arn']\n",
    "\n",
    "role_arn\n",
    "\n",
    "# Ensure there is an instance profile with the same name as the role\n",
    "instance_profile_name = role_name\n",
    "try:\n",
    "    iam.get_instance_profile(InstanceProfileName=instance_profile_name)\n",
    "except iam.exceptions.NoSuchEntityException:\n",
    "    # Create an instance profile if it doesn't exist\n",
    "    iam.create_instance_profile(InstanceProfileName=instance_profile_name)\n",
    "    # Add role to the instance profile\n",
    "    iam.add_role_to_instance_profile(\n",
    "        InstanceProfileName=instance_profile_name,\n",
    "        RoleName=role_name\n",
    "    )\n",
    "\n",
    "# Attach the instance profile to the EC2 instance\n",
    "ec2.associate_iam_instance_profile(\n",
    "    IamInstanceProfile={\n",
    "        'Name': instance_profile_name\n",
    "    },\n",
    "    InstanceId=instance_id\n",
    ")"
   ]
  },
  {
   "cell_type": "code",
   "execution_count": null,
   "metadata": {},
   "outputs": [],
   "source": [
    "# terminate\n",
    "import time\n",
    "\n",
    "def wait_for_status(instance_id, target_status):\n",
    "    while True:\n",
    "        response = ec2.describe_instances(InstanceIds=instance_id)\n",
    "\n",
    "        status = response['Reservations'][0]['Instances'][0]['State']['Name']\n",
    "\n",
    "        if status == target_status:\n",
    "            print(\"Instance is in {} state\".format(target_status))\n",
    "            break\n",
    "        \n",
    "        time.sleep(10)\n",
    "\n",
    "def terminate_instances(instance_id):\n",
    "    print(\"EC2 Instance Termination\")\n",
    "    ec2.terminate_instances(InstanceIds=instance_id)\n",
    "\n",
    "    wait_for_status(instance_id, 'terminated')\n",
    "\n",
    "# terminate_instances([instance_id])"
   ]
  }
 ],
 "metadata": {
  "kernelspec": {
   "display_name": "Python 3 (ipykernel)",
   "language": "python",
   "name": "python3"
  },
  "language_info": {
   "codemirror_mode": {
    "name": "ipython",
    "version": 3
   },
   "file_extension": ".py",
   "mimetype": "text/x-python",
   "name": "python",
   "nbconvert_exporter": "python",
   "pygments_lexer": "ipython3",
   "version": "3.12.0"
  }
 },
 "nbformat": 4,
 "nbformat_minor": 4
}
