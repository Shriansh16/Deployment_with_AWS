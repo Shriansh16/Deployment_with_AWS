{
 "cells": [
  {
   "cell_type": "code",
   "execution_count": 1,
   "metadata": {
    "vscode": {
     "languageId": "plaintext"
    }
   },
   "outputs": [],
   "source": [
    "import boto3"
   ]
  },
  {
   "cell_type": "code",
   "execution_count": 4,
   "metadata": {},
   "outputs": [
    {
     "data": {
      "text/plain": [
       "{'Reservations': [],\n",
       " 'ResponseMetadata': {'RequestId': 'e9d95189-2be8-4b04-b8b3-e514c9509981',\n",
       "  'HTTPStatusCode': 200,\n",
       "  'HTTPHeaders': {'x-amzn-requestid': 'e9d95189-2be8-4b04-b8b3-e514c9509981',\n",
       "   'cache-control': 'no-cache, no-store',\n",
       "   'strict-transport-security': 'max-age=31536000; includeSubDomains',\n",
       "   'content-type': 'text/xml;charset=UTF-8',\n",
       "   'content-length': '219',\n",
       "   'date': 'Thu, 13 Feb 2025 10:47:50 GMT',\n",
       "   'server': 'AmazonEC2'},\n",
       "  'RetryAttempts': 0}}"
      ]
     },
     "execution_count": 4,
     "metadata": {},
     "output_type": "execute_result"
    }
   ],
   "source": [
    "ec2 = boto3.client('ec2')\n",
    "ec2.describe_instances()"
   ]
  },
  {
   "cell_type": "markdown",
   "metadata": {},
   "source": [
    "ec2 = boto3.client('ec2'):\n",
    "This creates an EC2 client object using the Boto3 library.\n",
    "The client() method is used to initialize a connection to a specific AWS service—in this case, EC2.\n",
    "This client will be used to interact with EC2 resources, such as instances, security groups, etc.\n",
    "\n",
    "ec2.describe_instances():\n",
    "This command sends a request to AWS to describe EC2 instances.\n",
    "The describe_instances() method retrieves information about all EC2 instances in your AWS account."
   ]
  },
  {
   "cell_type": "markdown",
   "metadata": {},
   "source": [
    "## Creating SSH Key pair\n",
    "Creating an SSH key pair is important for securely accessing and managing your EC2 instances (or other servers) remotely, without needing to rely on traditional password-based authentication.\n",
    "\n",
    "An SSH key pair consists of a public key and a private key. The public key is stored on the EC2 instance, and the private key is kept securely on your local machine.\n",
    "When you attempt to connect to the instance via SSH, the private key is used to authenticate you. This is far more secure than using passwords"
   ]
  },
  {
   "cell_type": "code",
   "execution_count": 5,
   "metadata": {},
   "outputs": [],
   "source": [
    "resp = ec2.create_key_pair(KeyName='donut')"
   ]
  },
  {
   "cell_type": "code",
   "execution_count": 6,
   "metadata": {},
   "outputs": [],
   "source": [
    "# saving these credentials\n",
    "file = open(\"creds/sheenu.pem\", 'w')\n",
    "file.write(resp['KeyMaterial'])\n",
    "file.close()"
   ]
  },
  {
   "cell_type": "markdown",
   "metadata": {},
   "source": [
    "# Create an Amazon EC2 instances"
   ]
  },
  {
   "cell_type": "code",
   "execution_count": 7,
   "metadata": {},
   "outputs": [],
   "source": [
    "response = ec2.run_instances(\n",
    "    ImageId = 'ami-0427090fd1714168b',\n",
    "    MinCount=1,\n",
    "    MaxCount=1,\n",
    "    InstanceType='t2.micro',\n",
    "    KeyName='donut',\n",
    "    BlockDeviceMappings=[            #defining the volume\n",
    "        {\n",
    "            \"DeviceName\": \"/dev/xvda\",\n",
    "            'Ebs':{\n",
    "                'DeleteOnTermination': True,    #it ensures, if we delete the intance the volume will also get deleted\n",
    "                'VolumeSize': 20\n",
    "            }\n",
    "        }\n",
    "    ]\n",
    "\n",
    ")"
   ]
  },
  {
   "cell_type": "markdown",
   "metadata": {},
   "source": [
    "1. ec2.run_instances():\n",
    "This is the Boto3 method used to launch a new EC2 instance with the given parameters. Here's a breakdown of the parameters being passed to it:\n",
    "\n",
    "2. Parameters in run_instances():\n",
    "ImageId = 'ami-0427090fd1714168b':\n",
    "\n",
    "This specifies the Amazon Machine Image (AMI) to use when launching the EC2 instance. The AMI ID 'ami-0427090fd1714168b' refers to a specific pre-configured image (e.g., an operating system, software, or configuration).\n",
    "This AMI is used to create the initial environment for the instance.\n",
    "MinCount=1 and MaxCount=1:\n",
    "\n",
    "These parameters specify how many instances you want to launch.\n",
    "MinCount=1 means that at least one instance should be launched.\n",
    "MaxCount=1 means no more than one instance will be launched (effectively ensuring only 1 instance is created).\n",
    "InstanceType='t2.micro':\n",
    "\n",
    "This specifies the type of EC2 instance you want to launch.\n",
    "t2.micro is a small instance type that is eligible for the AWS Free Tier, meaning it’s relatively low-cost and suitable for lightweight workloads.\n",
    "KeyName='kgptalkie':\n",
    "\n",
    "This specifies the name of the SSH key pair you want to associate with the instance. The key pair kgptalkie will be used for SSH access to the instance after it’s launched.\n",
    "\n",
    "3. Block Device Mappings:\n",
    "This defines how the EBS (Elastic Block Store) volumes are attached to the EC2 instance. The block device mappings in your example are:\n",
    "\n",
    "BlockDeviceMappings:\n",
    "This parameter allows you to specify the block storage devices that should be attached to your instance. In this case, it includes a mapping for the root volume (/dev/xvda).\n",
    "\n",
    "\"DeviceName\": \"/dev/xvda\":\n",
    "\n",
    "This specifies the device name of the root volume. It’s where the operating system and primary files will be stored.\n",
    "'Ebs'::\n",
    "\n",
    "Specifies that an EBS volume is to be attached.\n",
    "\n",
    "'DeleteOnTermination': True:\n",
    "\n",
    "This ensures that when the EC2 instance is terminated, the EBS volume attached to it will also be automatically deleted. This prevents orphaned EBS volumes that are no longer needed from incurring unnecessary costs.\n",
    "'VolumeSize': 20:\n",
    "\n",
    "This defines the size of the EBS volume in GB. In this case, it will create a 20 GB volume as the root volume for the EC2 instance."
   ]
  },
  {
   "cell_type": "code",
   "execution_count": 8,
   "metadata": {},
   "outputs": [
    {
     "data": {
      "text/plain": [
       "{'ReservationId': 'r-0333e49e9cfbe14c9',\n",
       " 'OwnerId': '872515257072',\n",
       " 'Groups': [],\n",
       " 'Instances': [{'Architecture': 'x86_64',\n",
       "   'BlockDeviceMappings': [],\n",
       "   'ClientToken': 'e935f245-3549-4e0c-9211-dafc29418652',\n",
       "   'EbsOptimized': False,\n",
       "   'EnaSupport': True,\n",
       "   'Hypervisor': 'xen',\n",
       "   'NetworkInterfaces': [{'Attachment': {'AttachTime': datetime.datetime(2025, 2, 13, 11, 7, 43, tzinfo=tzutc()),\n",
       "      'AttachmentId': 'eni-attach-0415f8908a2a4d528',\n",
       "      'DeleteOnTermination': True,\n",
       "      'DeviceIndex': 0,\n",
       "      'Status': 'attaching',\n",
       "      'NetworkCardIndex': 0},\n",
       "     'Description': '',\n",
       "     'Groups': [{'GroupId': 'sg-0ba7e9456f78aebda', 'GroupName': 'default'}],\n",
       "     'Ipv6Addresses': [],\n",
       "     'MacAddress': '12:1b:50:5a:e9:6b',\n",
       "     'NetworkInterfaceId': 'eni-0c429d861f807407c',\n",
       "     'OwnerId': '872515257072',\n",
       "     'PrivateDnsName': 'ip-172-31-88-151.ec2.internal',\n",
       "     'PrivateIpAddress': '172.31.88.151',\n",
       "     'PrivateIpAddresses': [{'Primary': True,\n",
       "       'PrivateDnsName': 'ip-172-31-88-151.ec2.internal',\n",
       "       'PrivateIpAddress': '172.31.88.151'}],\n",
       "     'SourceDestCheck': True,\n",
       "     'Status': 'in-use',\n",
       "     'SubnetId': 'subnet-0065a6f55a10f964d',\n",
       "     'VpcId': 'vpc-0e66fae67af3f2e35',\n",
       "     'InterfaceType': 'interface',\n",
       "     'Operator': {'Managed': False}}],\n",
       "   'RootDeviceName': '/dev/xvda',\n",
       "   'RootDeviceType': 'ebs',\n",
       "   'SecurityGroups': [{'GroupId': 'sg-0ba7e9456f78aebda',\n",
       "     'GroupName': 'default'}],\n",
       "   'SourceDestCheck': True,\n",
       "   'StateReason': {'Code': 'pending', 'Message': 'pending'},\n",
       "   'VirtualizationType': 'hvm',\n",
       "   'CpuOptions': {'CoreCount': 1, 'ThreadsPerCore': 1},\n",
       "   'CapacityReservationSpecification': {'CapacityReservationPreference': 'open'},\n",
       "   'MetadataOptions': {'State': 'pending',\n",
       "    'HttpTokens': 'required',\n",
       "    'HttpPutResponseHopLimit': 2,\n",
       "    'HttpEndpoint': 'enabled',\n",
       "    'HttpProtocolIpv6': 'disabled',\n",
       "    'InstanceMetadataTags': 'disabled'},\n",
       "   'EnclaveOptions': {'Enabled': False},\n",
       "   'BootMode': 'uefi-preferred',\n",
       "   'PrivateDnsNameOptions': {'HostnameType': 'ip-name',\n",
       "    'EnableResourceNameDnsARecord': False,\n",
       "    'EnableResourceNameDnsAAAARecord': False},\n",
       "   'MaintenanceOptions': {'AutoRecovery': 'default'},\n",
       "   'CurrentInstanceBootMode': 'legacy-bios',\n",
       "   'Operator': {'Managed': False},\n",
       "   'InstanceId': 'i-0e87c7b4656f306b3',\n",
       "   'ImageId': 'ami-0427090fd1714168b',\n",
       "   'State': {'Code': 0, 'Name': 'pending'},\n",
       "   'PrivateDnsName': 'ip-172-31-88-151.ec2.internal',\n",
       "   'PublicDnsName': '',\n",
       "   'StateTransitionReason': '',\n",
       "   'KeyName': 'donut',\n",
       "   'AmiLaunchIndex': 0,\n",
       "   'ProductCodes': [],\n",
       "   'InstanceType': 't2.micro',\n",
       "   'LaunchTime': datetime.datetime(2025, 2, 13, 11, 7, 43, tzinfo=tzutc()),\n",
       "   'Placement': {'GroupName': '',\n",
       "    'Tenancy': 'default',\n",
       "    'AvailabilityZone': 'us-east-1c'},\n",
       "   'Monitoring': {'State': 'disabled'},\n",
       "   'SubnetId': 'subnet-0065a6f55a10f964d',\n",
       "   'VpcId': 'vpc-0e66fae67af3f2e35',\n",
       "   'PrivateIpAddress': '172.31.88.151'}],\n",
       " 'ResponseMetadata': {'RequestId': '53162768-de29-4124-a7dd-0c5c30321d55',\n",
       "  'HTTPStatusCode': 200,\n",
       "  'HTTPHeaders': {'x-amzn-requestid': '53162768-de29-4124-a7dd-0c5c30321d55',\n",
       "   'cache-control': 'no-cache, no-store',\n",
       "   'strict-transport-security': 'max-age=31536000; includeSubDomains',\n",
       "   'vary': 'accept-encoding',\n",
       "   'content-type': 'text/xml;charset=UTF-8',\n",
       "   'content-length': '3758',\n",
       "   'date': 'Thu, 13 Feb 2025 11:07:43 GMT',\n",
       "   'server': 'AmazonEC2'},\n",
       "  'RetryAttempts': 0}}"
      ]
     },
     "execution_count": 8,
     "metadata": {},
     "output_type": "execute_result"
    }
   ],
   "source": [
    "response"
   ]
  },
  {
   "cell_type": "markdown",
   "metadata": {},
   "source": [
    "#### to specify the name of the instance\n",
    "response = ec2.run_instances(\n",
    "    ImageId='ami-0427090fd1714168b',\n",
    "    MinCount=1,\n",
    "    MaxCount=1,\n",
    "    InstanceType='t2.micro',\n",
    "    KeyName='donut',\n",
    "    BlockDeviceMappings=[\n",
    "        {\n",
    "            \"DeviceName\": \"/dev/xvda\",\n",
    "            'Ebs': {\n",
    "                'DeleteOnTermination': True,\n",
    "                'VolumeSize': 20\n",
    "            }\n",
    "        }\n",
    "    ],\n",
    "    TagSpecifications=[\n",
    "        {\n",
    "            'ResourceType': 'instance',\n",
    "            'Tags': [\n",
    "                {\n",
    "                    'Key': 'Name',\n",
    "                    'Value': 'sheenu'\n",
    "                }\n",
    "            ]\n",
    "        }\n",
    "    ]\n",
    ")\n"
   ]
  },
  {
   "cell_type": "markdown",
   "metadata": {},
   "source": [
    "## Create Security Group and add rules to it\n",
    "- Security groups control inbound and outbound traffic of the EC2 instance network interface.\n",
    "- every EC2 instance must have at least one Security Group associated with it. If no Security Group has been specified during the EC2 instance launch, the default Security Group of the default VPC is associated with the instance."
   ]
  },
  {
   "cell_type": "markdown",
   "metadata": {},
   "source": [
    "A Security Group in AWS acts as a virtual firewall that controls incoming and outgoing traffic for EC2 instances. It defines which IP addresses, protocols, and ports can access your instance."
   ]
  },
  {
   "cell_type": "code",
   "execution_count": 9,
   "metadata": {},
   "outputs": [],
   "source": [
    "response = ec2.create_security_group(\n",
    "    GroupName = 'sheenugroup',\n",
    "    Description = \"Security group for testing\"\n",
    ")"
   ]
  },
  {
   "cell_type": "code",
   "execution_count": 10,
   "metadata": {},
   "outputs": [
    {
     "data": {
      "text/plain": [
       "'sg-012d1562fd562804f'"
      ]
     },
     "execution_count": 10,
     "metadata": {},
     "output_type": "execute_result"
    }
   ],
   "source": [
    "security_group_id = response['GroupId']\n",
    "security_group_id"
   ]
  },
  {
   "cell_type": "markdown",
   "metadata": {},
   "source": [
    "In this group id we need to provide inbound rule so that our ec2 instance can be accessed from external world"
   ]
  },
  {
   "cell_type": "code",
   "execution_count": 11,
   "metadata": {},
   "outputs": [],
   "source": [
    "# ip, port, traffic type\n",
    "response = ec2.authorize_security_group_ingress(\n",
    "    GroupId = security_group_id,\n",
    "    IpPermissions=[\n",
    "        {\n",
    "            'IpProtocol': 'tcp',\n",
    "            'FromPort': 22,\n",
    "            'ToPort': 22,\n",
    "            'IpRanges': [{'CidrIp': '0.0.0.0/0'}]\n",
    "        },\n",
    "        {\n",
    "            'IpProtocol': 'tcp',\n",
    "            'FromPort': 80,\n",
    "            'ToPort': 80,\n",
    "            'IpRanges': [{'CidrIp': '0.0.0.0/0'}]\n",
    "        }\n",
    "    ]\n",
    ")"
   ]
  },
  {
   "cell_type": "markdown",
   "metadata": {},
   "source": [
    "as of now we have not connected this policy group with our instance that we have created earlier \n",
    "lets do that"
   ]
  },
  {
   "cell_type": "code",
   "execution_count": 12,
   "metadata": {},
   "outputs": [
    {
     "data": {
      "text/plain": [
       "('i-0e87c7b4656f306b3', 'sg-012d1562fd562804f')"
      ]
     },
     "execution_count": 12,
     "metadata": {},
     "output_type": "execute_result"
    }
   ],
   "source": [
    "response = ec2.describe_instances()\n",
    "\n",
    "instrance_id = response['Reservations'][0]['Instances'][0]['InstanceId']\n",
    "instrance_id, security_group_id"
   ]
  },
  {
   "cell_type": "code",
   "execution_count": 13,
   "metadata": {},
   "outputs": [],
   "source": [
    "old_security_group_id = response['Reservations'][0]['Instances'][0]['SecurityGroups'][0]['GroupId']"
   ]
  },
  {
   "cell_type": "code",
   "execution_count": 14,
   "metadata": {},
   "outputs": [
    {
     "data": {
      "text/plain": [
       "'sg-0ba7e9456f78aebda'"
      ]
     },
     "execution_count": 14,
     "metadata": {},
     "output_type": "execute_result"
    }
   ],
   "source": [
    "old_security_group_id"
   ]
  },
  {
   "cell_type": "code",
   "execution_count": 15,
   "metadata": {},
   "outputs": [
    {
     "data": {
      "text/plain": [
       "{'ResponseMetadata': {'RequestId': '086b0b3a-df67-4714-bb54-37a46b2026dc',\n",
       "  'HTTPStatusCode': 200,\n",
       "  'HTTPHeaders': {'x-amzn-requestid': '086b0b3a-df67-4714-bb54-37a46b2026dc',\n",
       "   'cache-control': 'no-cache, no-store',\n",
       "   'strict-transport-security': 'max-age=31536000; includeSubDomains',\n",
       "   'content-type': 'text/xml;charset=UTF-8',\n",
       "   'content-length': '235',\n",
       "   'date': 'Thu, 13 Feb 2025 12:54:44 GMT',\n",
       "   'server': 'AmazonEC2'},\n",
       "  'RetryAttempts': 0}}"
      ]
     },
     "execution_count": 15,
     "metadata": {},
     "output_type": "execute_result"
    }
   ],
   "source": [
    "ec2.modify_instance_attribute(InstanceId=instrance_id, Groups=[security_group_id])"
   ]
  },
  {
   "cell_type": "code",
   "execution_count": 16,
   "metadata": {},
   "outputs": [
    {
     "data": {
      "text/plain": [
       "'\\nto connect the old security group\\nec2.modify_instance_attribute(InstanceId=instrance_id, Groups=[old_security_group_id])\\nwe can also attach multiple security group like this\\nec2.modify_instance_attribute(InstanceId=instrance_id, Groups=[old_security_group_id,security_group_id])\\n'"
      ]
     },
     "execution_count": 16,
     "metadata": {},
     "output_type": "execute_result"
    }
   ],
   "source": [
    "\"\"\"\n",
    "to connect the old security group\n",
    "ec2.modify_instance_attribute(InstanceId=instrance_id, Groups=[old_security_group_id])\n",
    "we can also attach multiple security group like this\n",
    "ec2.modify_instance_attribute(InstanceId=instrance_id, Groups=[old_security_group_id,security_group_id])\n",
    "\"\"\""
   ]
  },
  {
   "cell_type": "markdown",
   "metadata": {},
   "source": [
    "## Start, Stop and Delete Amazon EC2 instances"
   ]
  },
  {
   "cell_type": "code",
   "execution_count": 17,
   "metadata": {},
   "outputs": [
    {
     "name": "stdout",
     "output_type": "stream",
     "text": [
      "EC2 Instance Start\n",
      "Instance is in running state\n"
     ]
    }
   ],
   "source": [
    "# status -> running, stopped, terminated, pending etc.\n",
    "\n",
    "import time\n",
    "\n",
    "def wait_for_status(instance_id, target_status):\n",
    "    '''\n",
    "    This function checks whether an EC2 instance has reached the desired target_status (e.g., \"running\" or \"stopped\").\n",
    "    Loops infinitely (while True) until the instance reaches the target status.\n",
    "    Calls describe_instances to fetch instance details.\n",
    "    Extracts the current state of the instance.\n",
    "           Possible states: \"pending\", \"running\", \"stopping\", \"stopped\", \"shutting-down\", \"terminated\"\n",
    "    Checks if the current status matches target_status:\n",
    "    If yes, prints \"Instance is in {target_status} state\" and exits the loop.\n",
    "    If no, waits 10 seconds before checking again.\n",
    "    \n",
    "    '''\n",
    "    while True:\n",
    "        response = ec2.describe_instances(InstanceIds=instance_id)\n",
    "\n",
    "        status = response['Reservations'][0]['Instances'][0]['State']['Name']\n",
    "\n",
    "        if status == target_status:\n",
    "            print(\"Instance is in {} state\".format(target_status))\n",
    "            break\n",
    "        \n",
    "        time.sleep(10)\n",
    "\n",
    "\n",
    "def start_instances(instance_id):\n",
    "    '''\n",
    "    This function starts an EC2 instance and waits until it becomes running.\n",
    "    '''\n",
    "    print(\"EC2 Instance Start\")\n",
    "    ec2.start_instances(InstanceIds=instance_id)\n",
    "\n",
    "    wait_for_status(instance_id, 'running')\n",
    "\n",
    "start_instances([instrance_id])\n"
   ]
  },
  {
   "cell_type": "code",
   "execution_count": 18,
   "metadata": {},
   "outputs": [
    {
     "name": "stdout",
     "output_type": "stream",
     "text": [
      "EC2 Instance Stop\n",
      "Instance is in stopped state\n"
     ]
    }
   ],
   "source": [
    "def stop_instances(instance_id):\n",
    "    '''\n",
    "    This function is designed to stop an AWS EC2 instance and wait until it reaches the \"stopped\" state.\n",
    "    '''\n",
    "    print(\"EC2 Instance Stop\")\n",
    "    ec2.stop_instances(InstanceIds=instance_id)\n",
    "\n",
    "    wait_for_status(instance_id, 'stopped')\n",
    "\n",
    "stop_instances([instrance_id])"
   ]
  },
  {
   "cell_type": "code",
   "execution_count": 19,
   "metadata": {},
   "outputs": [
    {
     "name": "stdout",
     "output_type": "stream",
     "text": [
      "EC2 Instance Termination\n",
      "Instance is in terminated state\n"
     ]
    }
   ],
   "source": [
    "def terminate_instances(instance_id):\n",
    "    '''\n",
    "    This function terminates an AWS EC2 instance and waits until it reaches the \"terminated\" state.\n",
    "    '''\n",
    "    print(\"EC2 Instance Termination\")\n",
    "    ec2.terminate_instances(InstanceIds=instance_id)\n",
    "\n",
    "    wait_for_status(instance_id, 'terminated')\n",
    "\n",
    "terminate_instances([instrance_id])"
   ]
  },
  {
   "cell_type": "code",
   "execution_count": null,
   "metadata": {},
   "outputs": [],
   "source": []
  }
 ],
 "metadata": {
  "kernelspec": {
   "display_name": "Python 3 (ipykernel)",
   "language": "python",
   "name": "python3"
  },
  "language_info": {
   "codemirror_mode": {
    "name": "ipython",
    "version": 3
   },
   "file_extension": ".py",
   "mimetype": "text/x-python",
   "name": "python",
   "nbconvert_exporter": "python",
   "pygments_lexer": "ipython3",
   "version": "3.12.0"
  }
 },
 "nbformat": 4,
 "nbformat_minor": 4
}
